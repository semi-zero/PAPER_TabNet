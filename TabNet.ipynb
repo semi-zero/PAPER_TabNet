{
 "cells": [
  {
   "cell_type": "markdown",
   "metadata": {},
   "source": [
    "# **TabNet** "
   ]
  },
  {
   "cell_type": "markdown",
   "metadata": {},
   "source": [
    "## **라이브러리 및 데이터 불러오기**"
   ]
  },
  {
   "cell_type": "code",
   "execution_count": 1,
   "metadata": {},
   "outputs": [],
   "source": [
    "import os\n",
    "import numpy as np\n",
    "import pandas as pd\n",
    "from sklearn.metrics import roc_auc_score\n",
    "from sklearn.metrics import recall_score\n",
    "from sklearn.metrics import precision_score\n",
    "from sklearn.metrics import confusion_matrix\n",
    "from sklearn.preprocessing import LabelEncoder\n",
    "from sklearn.model_selection import StratifiedKFold\n",
    "\n",
    "from matplotlib import pyplot as plt\n",
    "import seaborn as sns\n",
    "import torch\n",
    "import torch.nn as nn\n",
    "from pytorch_tabnet.tab_model import TabNetClassifier"
   ]
  },
  {
   "cell_type": "code",
   "execution_count": 2,
   "metadata": {},
   "outputs": [],
   "source": [
    "#!pip install \"git+https://github.com/dreamquark-ai/tabnet.git@develop#egg=pytorch_tabnet\" --upgrade"
   ]
  },
  {
   "cell_type": "code",
   "execution_count": 3,
   "metadata": {},
   "outputs": [],
   "source": [
    "train=pd.read_csv('../train.csv')\n",
    "test=pd.read_csv('../test.csv')\n",
    "train=train.drop('FRST_RCV_DT', axis=1)\n",
    "test=test.drop('FRST_RCV_DT', axis=1)\n",
    "target='FDS_CATH'"
   ]
  },
  {
   "cell_type": "code",
   "execution_count": 4,
   "metadata": {},
   "outputs": [
    {
     "name": "stdout",
     "output_type": "stream",
     "text": [
      "(118888, 22)\n",
      "(17661, 22)\n"
     ]
    }
   ],
   "source": [
    "print(train.shape)\n",
    "print(test.shape)"
   ]
  },
  {
   "cell_type": "code",
   "execution_count": 5,
   "metadata": {},
   "outputs": [
    {
     "name": "stdout",
     "output_type": "stream",
     "text": [
      "0    0.969812\n",
      "1    0.030188\n",
      "Name: FDS_CATH, dtype: float64\n"
     ]
    }
   ],
   "source": [
    "print(train['FDS_CATH'].value_counts()/len(train))"
   ]
  },
  {
   "cell_type": "code",
   "execution_count": 6,
   "metadata": {},
   "outputs": [
    {
     "name": "stdout",
     "output_type": "stream",
     "text": [
      "0    0.987034\n",
      "1    0.012966\n",
      "Name: FDS_CATH, dtype: float64\n"
     ]
    }
   ],
   "source": [
    "print(test['FDS_CATH'].value_counts()/len(test))"
   ]
  },
  {
   "cell_type": "markdown",
   "metadata": {},
   "source": [
    "## **train 데이터 정제**"
   ]
  },
  {
   "cell_type": "code",
   "execution_count": 7,
   "metadata": {},
   "outputs": [],
   "source": [
    "nunique = train.nunique()\n",
    "types = train.dtypes\n",
    "\n",
    "categorical_columns=[]\n",
    "categorical_dims ={}\n",
    "\n",
    "for col in train.columns:\n",
    "    if types[col] == 'object' or nunique[col] <200:\n",
    "        l_enc= LabelEncoder()\n",
    "        train[col]= train[col].fillna(\"VV_likely\")\n",
    "        train[col]= l_enc.fit_transform(train[col].values)\n",
    "        categorical_columns.append(col)\n",
    "        categorical_dims[col] = len(l_enc.classes_)\n",
    "    else:\n",
    "        train.fillna(train.loc[train_indices, col].mean(), inplace=True)"
   ]
  },
  {
   "cell_type": "markdown",
   "metadata": {},
   "source": [
    "## **데이터 전처리 및 모델링**"
   ]
  },
  {
   "cell_type": "code",
   "execution_count": 9,
   "metadata": {},
   "outputs": [],
   "source": [
    "features =[col for col in train.columns if col not in [target]]\n",
    "cat_idxs = [i for i, f in enumerate(features) if f in categorical_columns]\n",
    "cat_dims = [categorical_dims[f] for i, f in enumerate(features) if f in categorical_columns]"
   ]
  },
  {
   "cell_type": "code",
   "execution_count": 10,
   "metadata": {},
   "outputs": [],
   "source": [
    "train_x=train[features].values\n",
    "train_y=train[target].values"
   ]
  },
  {
   "cell_type": "code",
   "execution_count": 10,
   "metadata": {},
   "outputs": [
    {
     "name": "stdout",
     "output_type": "stream",
     "text": [
      "Device used : cpu\n"
     ]
    }
   ],
   "source": [
    "clf=TabNetClassifier(cat_idxs=cat_idxs,\n",
    "                    cat_dims=cat_dims,\n",
    "                     cat_emb_dim=10, \n",
    "                     optimizer_fn = torch.optim.Adam, \n",
    "                     optimizer_params=dict(lr=1e-2),\n",
    "                     scheduler_params={'step_size':50, \"gamma\":0.9},\n",
    "                     scheduler_fn = torch.optim.lr_scheduler.StepLR, \n",
    "                     mask_type = 'sparsemax' #sparsemax, entmax\n",
    "                    )"
   ]
  },
  {
   "cell_type": "code",
   "execution_count": 12,
   "metadata": {},
   "outputs": [
    {
     "name": "stdout",
     "output_type": "stream",
     "text": [
      "========================1=================================\n",
      "epoch 0  | loss: 0.66676 | train_auc: 0.64617 | valid_auc: 0.64208 |  0:00:34s\n",
      "epoch 1  | loss: 0.60135 | train_auc: 0.73032 | valid_auc: 0.72319 |  0:01:09s\n",
      "epoch 2  | loss: 0.58553 | train_auc: 0.74897 | valid_auc: 0.7424  |  0:01:43s\n",
      "epoch 3  | loss: 0.57647 | train_auc: 0.75947 | valid_auc: 0.74854 |  0:02:16s\n",
      "epoch 4  | loss: 0.56679 | train_auc: 0.76648 | valid_auc: 0.74078 |  0:04:24s\n",
      "epoch 5  | loss: 0.5624  | train_auc: 0.77183 | valid_auc: 0.7438  |  0:06:14s\n",
      "epoch 6  | loss: 0.56098 | train_auc: 0.77111 | valid_auc: 0.74529 |  0:06:53s\n",
      "epoch 7  | loss: 0.5603  | train_auc: 0.77573 | valid_auc: 0.74594 |  0:07:27s\n",
      "epoch 8  | loss: 0.56183 | train_auc: 0.77529 | valid_auc: 0.74631 |  0:07:59s\n",
      "epoch 9  | loss: 0.55852 | train_auc: 0.78046 | valid_auc: 0.75397 |  0:08:31s\n",
      "Stop training because you reached max_epochs = 10 with best_epoch = 9 and best_valid_auc = 0.75397\n",
      "Best weights from best epoch are automatically used!\n",
      "========================2=================================\n",
      "epoch 0  | loss: 0.55983 | train_auc: 0.77525 | valid_auc: 0.74895 |  0:00:34s\n",
      "epoch 1  | loss: 0.5551  | train_auc: 0.77327 | valid_auc: 0.74585 |  0:01:05s\n",
      "epoch 2  | loss: 0.55704 | train_auc: 0.77856 | valid_auc: 0.73551 |  0:01:35s\n",
      "epoch 3  | loss: 0.54759 | train_auc: 0.78418 | valid_auc: 0.73067 |  0:02:06s\n",
      "epoch 4  | loss: 0.54215 | train_auc: 0.79552 | valid_auc: 0.73219 |  0:02:37s\n",
      "epoch 5  | loss: 0.53673 | train_auc: 0.80188 | valid_auc: 0.72584 |  0:03:08s\n",
      "epoch 6  | loss: 0.53226 | train_auc: 0.79765 | valid_auc: 0.7151  |  0:03:39s\n",
      "epoch 7  | loss: 0.52671 | train_auc: 0.81373 | valid_auc: 0.71969 |  0:04:11s\n",
      "epoch 8  | loss: 0.52463 | train_auc: 0.81111 | valid_auc: 0.71231 |  0:04:42s\n",
      "epoch 9  | loss: 0.51679 | train_auc: 0.82187 | valid_auc: 0.72082 |  0:05:13s\n",
      "Stop training because you reached max_epochs = 10 with best_epoch = 0 and best_valid_auc = 0.74895\n",
      "Best weights from best epoch are automatically used!\n",
      "========================3=================================\n",
      "epoch 0  | loss: 0.55943 | train_auc: 0.76393 | valid_auc: 0.73758 |  0:00:36s\n",
      "epoch 1  | loss: 0.55099 | train_auc: 0.77946 | valid_auc: 0.74537 |  0:01:07s\n",
      "epoch 2  | loss: 0.54677 | train_auc: 0.79124 | valid_auc: 0.74389 |  0:01:38s\n",
      "epoch 3  | loss: 0.5415  | train_auc: 0.79017 | valid_auc: 0.74178 |  0:02:10s\n",
      "epoch 4  | loss: 0.54166 | train_auc: 0.79571 | valid_auc: 0.7398  |  0:02:42s\n",
      "epoch 5  | loss: 0.53587 | train_auc: 0.80005 | valid_auc: 0.74311 |  0:03:14s\n",
      "epoch 6  | loss: 0.53309 | train_auc: 0.80419 | valid_auc: 0.73658 |  0:03:46s\n",
      "epoch 7  | loss: 0.53248 | train_auc: 0.80222 | valid_auc: 0.74563 |  0:04:17s\n",
      "epoch 8  | loss: 0.52895 | train_auc: 0.80453 | valid_auc: 0.73484 |  0:04:47s\n",
      "epoch 9  | loss: 0.52159 | train_auc: 0.82299 | valid_auc: 0.73237 |  0:05:20s\n",
      "Stop training because you reached max_epochs = 10 with best_epoch = 7 and best_valid_auc = 0.74563\n",
      "Best weights from best epoch are automatically used!\n",
      "========================4=================================\n",
      "epoch 0  | loss: 0.54083 | train_auc: 0.79737 | valid_auc: 0.77952 |  0:00:30s\n",
      "epoch 1  | loss: 0.53022 | train_auc: 0.80173 | valid_auc: 0.75745 |  0:01:00s\n",
      "epoch 2  | loss: 0.52737 | train_auc: 0.80404 | valid_auc: 0.75978 |  0:01:31s\n",
      "epoch 3  | loss: 0.51797 | train_auc: 0.81905 | valid_auc: 0.757   |  0:02:01s\n",
      "epoch 4  | loss: 0.51409 | train_auc: 0.82013 | valid_auc: 0.75815 |  0:02:32s\n",
      "epoch 5  | loss: 0.50937 | train_auc: 0.83271 | valid_auc: 0.74329 |  0:03:04s\n",
      "epoch 6  | loss: 0.50099 | train_auc: 0.82967 | valid_auc: 0.74343 |  0:03:34s\n",
      "epoch 7  | loss: 0.50047 | train_auc: 0.83259 | valid_auc: 0.73265 |  0:04:04s\n",
      "epoch 8  | loss: 0.50393 | train_auc: 0.83417 | valid_auc: 0.74181 |  0:04:36s\n",
      "epoch 9  | loss: 0.49593 | train_auc: 0.84379 | valid_auc: 0.73865 |  0:05:12s\n",
      "Stop training because you reached max_epochs = 10 with best_epoch = 0 and best_valid_auc = 0.77952\n",
      "Best weights from best epoch are automatically used!\n",
      "========================5=================================\n",
      "epoch 0  | loss: 0.54122 | train_auc: 0.79926 | valid_auc: 0.79339 |  0:00:30s\n",
      "epoch 1  | loss: 0.53221 | train_auc: 0.79025 | valid_auc: 0.7789  |  0:01:01s\n",
      "epoch 2  | loss: 0.52623 | train_auc: 0.80208 | valid_auc: 0.769   |  0:01:32s\n",
      "epoch 3  | loss: 0.51649 | train_auc: 0.81677 | valid_auc: 0.77062 |  0:02:01s\n",
      "epoch 4  | loss: 0.51573 | train_auc: 0.82468 | valid_auc: 0.77172 |  0:02:32s\n",
      "epoch 5  | loss: 0.51293 | train_auc: 0.8242  | valid_auc: 0.76735 |  0:03:02s\n",
      "epoch 6  | loss: 0.50508 | train_auc: 0.82616 | valid_auc: 0.75469 |  0:03:34s\n",
      "epoch 7  | loss: 0.50422 | train_auc: 0.83359 | valid_auc: 0.74863 |  0:04:05s\n",
      "epoch 8  | loss: 0.50032 | train_auc: 0.84386 | valid_auc: 0.74518 |  0:04:41s\n",
      "epoch 9  | loss: 0.49017 | train_auc: 0.84227 | valid_auc: 0.74255 |  0:05:12s\n",
      "Stop training because you reached max_epochs = 10 with best_epoch = 0 and best_valid_auc = 0.79339\n",
      "Best weights from best epoch are automatically used!\n"
     ]
    }
   ],
   "source": [
    "folds=StratifiedKFold(n_splits=5, shuffle=True, random_state=42)\n",
    "max_epochs=10\n",
    "\n",
    "for n_fold, (train_index, val_index) in enumerate(folds.split(train_x, train_y)):\n",
    "    \n",
    "    print(f\"========================{n_fold+1}=================================\")\n",
    "    X_train, X_val = train_x[train_index], train_x[val_index]\n",
    "    y_train, y_val = train_y[train_index], train_y[val_index]\n",
    "    \n",
    "    clf.fit(X_train=X_train, y_train=y_train,\n",
    "           eval_set=[(X_train, y_train), (X_val, y_val)],\n",
    "           eval_name=['train', 'valid'],\n",
    "            eval_metric=['auc'],\n",
    "            max_epochs=max_epochs, patience=20, batch_size=1024, virtual_batch_size =128, num_workers=1, weights=1, drop_last=False,\n",
    "           )\n",
    "             \n",
    "    PATH='/home/users/adk8400153/AXA_FDS/tabnet_model/clf_'+str(n_fold) +'.pth'\n",
    "    torch.save(clf, PATH)"
   ]
  },
  {
   "cell_type": "markdown",
   "metadata": {},
   "source": [
    "## **test data 정제**"
   ]
  },
  {
   "cell_type": "code",
   "execution_count": 11,
   "metadata": {},
   "outputs": [],
   "source": [
    "#nunique = train.nunique()\n",
    "#types = train.dtypes\n",
    "\n",
    "categorical_columns=[]\n",
    "categorical_dims ={}\n",
    "\n",
    "for col in test.columns:\n",
    "    if types[col] == 'object' or nunique[col] <200:\n",
    "        l_enc= LabelEncoder()\n",
    "        test[col]= test[col].fillna(\"VV_likely\")\n",
    "        test[col]= l_enc.fit_transform(test[col].values)\n",
    "        categorical_columns.append(col)\n",
    "        categorical_dims[col] = len(l_enc.classes_)\n",
    "    else:\n",
    "        test.fillna(test.loc[:, col].mean(), inplace=True)\n",
    "        \n",
    "\n",
    "test_x=test[features].values\n",
    "test_y=test[target].values"
   ]
  },
  {
   "cell_type": "markdown",
   "metadata": {},
   "source": [
    "## **test 결과 확인**"
   ]
  },
  {
   "cell_type": "code",
   "execution_count": 15,
   "metadata": {},
   "outputs": [],
   "source": [
    "#test 정답 도출\n",
    "test_prediction=np.zeros((test.shape[0], 2))\n",
    "for n_fold in range(5):\n",
    "    PATH='/home/users/adk8400153/AXA_FDS/tabnet_model/clf_'+str(n_fold)+'.pth'\n",
    "    model=torch.load(PATH)\n",
    "    test_prediction += model.predict_proba(test_x)/5"
   ]
  },
  {
   "cell_type": "code",
   "execution_count": 16,
   "metadata": {},
   "outputs": [
    {
     "name": "stdout",
     "output_type": "stream",
     "text": [
      "AUC score: 0.7707206893511105\n",
      "precision score:0.030148706457526993\n",
      "recall score: 0.6462882096069869\n"
     ]
    },
    {
     "data": {
      "text/plain": [
       "Text(0.5, 24.0, 'Predicted label')"
      ]
     },
     "execution_count": 16,
     "metadata": {},
     "output_type": "execute_result"
    },
    {
     "data": {
      "image/png": "[encoded data removed]",
      "text/plain": [
       "<Figure size 360x360 with 2 Axes>"
      ]
     },
     "metadata": {
      "needs_background": "light"
     },
     "output_type": "display_data"
    }
   ],
   "source": [
    "test_preds=np.argmax(test_prediction, axis=1)\n",
    "print(f'AUC score: {roc_auc_score(y_score=test_prediction[:,1], y_true=test_y)}')\n",
    "print(f'precision score:{precision_score(test_y, test_preds)}')\n",
    "print(f'recall score: {recall_score(test_y, test_preds)}')\n",
    "cm=confusion_matrix(test_y, test_preds)\n",
    "plt.figure(figsize=(5,5))\n",
    "sns.heatmap(cm, annot=True, fmt=\"d\")\n",
    "plt.title(\"Confision matrix\")\n",
    "plt.ylabel(\"Actual label\")\n",
    "plt.xlabel(\"Predicted label\")"
   ]
  },
  {
   "cell_type": "code",
   "execution_count": 17,
   "metadata": {},
   "outputs": [
    {
     "data": {
      "text/plain": [
       "array([[0.44119745, 0.5588025 ],\n",
       "       [0.52171519, 0.47828484],\n",
       "       [0.96931471, 0.03068523],\n",
       "       ...,\n",
       "       [0.43793021, 0.56206978],\n",
       "       [0.62986757, 0.37013246],\n",
       "       [0.40504406, 0.59495595]])"
      ]
     },
     "execution_count": 17,
     "metadata": {},
     "output_type": "execute_result"
    }
   ],
   "source": [
    "test_prediction"
   ]
  },
  {
   "cell_type": "code",
   "execution_count": 18,
   "metadata": {},
   "outputs": [],
   "source": [
    "test_prediction=pd.DataFrame(test_prediction, columns=['p0', 'p1'])\n",
    "score=pd.concat([test[[target]], test_prediction['p1']], axis=1)\n",
    "score.sort_values('p1', ascending=False, inplace=True)\n",
    "score=score.reset_index().drop('index', axis=1).copy()"
   ]
  },
  {
   "cell_type": "code",
   "execution_count": 19,
   "metadata": {},
   "outputs": [],
   "source": [
    "n_group=10\n",
    "group=['G01','G02','G03','G04','G05','G06','G07','G08','G09','G10']\n",
    "bins=round(len(score)/n_group)\n",
    "bins_1=len(score)-bins*(n_group-1)\n",
    "\n",
    "group_list=[]\n",
    "for i in range(n_group):\n",
    "    if i <n_group-1:\n",
    "        group_list.append(np.repeat(group[i], bins).tolist())\n",
    "    else:\n",
    "        group_list.append(np.repeat(group[i], bins_1).tolist())\n",
    "    \n",
    "import itertools\n",
    "group_list=list(itertools.chain(*group_list))\n",
    "score['group']=pd.Series(group_list)\n",
    "\n",
    "function_list=['count','sum','mean']\n",
    "table=score.groupby(['group']).agg(function_list).reset_index()"
   ]
  },
  {
   "cell_type": "code",
   "execution_count": 20,
   "metadata": {},
   "outputs": [
    {
     "data": {
      "text/html": [
       "<div>\n",
       "<style scoped>\n",
       "    .dataframe tbody tr th:only-of-type {\n",
       "        vertical-align: middle;\n",
       "    }\n",
       "\n",
       "    .dataframe tbody tr th {\n",
       "        vertical-align: top;\n",
       "    }\n",
       "\n",
       "    .dataframe thead tr th {\n",
       "        text-align: left;\n",
       "    }\n",
       "</style>\n",
       "<table border=\"1\" class=\"dataframe\">\n",
       "  <thead>\n",
       "    <tr>\n",
       "      <th></th>\n",
       "      <th>group</th>\n",
       "      <th colspan=\"3\" halign=\"left\">FDS_CATH</th>\n",
       "      <th colspan=\"3\" halign=\"left\">p1</th>\n",
       "    </tr>\n",
       "    <tr>\n",
       "      <th></th>\n",
       "      <th></th>\n",
       "      <th>count</th>\n",
       "      <th>sum</th>\n",
       "      <th>mean</th>\n",
       "      <th>count</th>\n",
       "      <th>sum</th>\n",
       "      <th>mean</th>\n",
       "    </tr>\n",
       "  </thead>\n",
       "  <tbody>\n",
       "    <tr>\n",
       "      <th>0</th>\n",
       "      <td>G01</td>\n",
       "      <td>1766</td>\n",
       "      <td>100</td>\n",
       "      <td>0.056625</td>\n",
       "      <td>1766</td>\n",
       "      <td>1261.402540</td>\n",
       "      <td>0.714271</td>\n",
       "    </tr>\n",
       "    <tr>\n",
       "      <th>1</th>\n",
       "      <td>G02</td>\n",
       "      <td>1766</td>\n",
       "      <td>27</td>\n",
       "      <td>0.015289</td>\n",
       "      <td>1766</td>\n",
       "      <td>1031.645325</td>\n",
       "      <td>0.584171</td>\n",
       "    </tr>\n",
       "    <tr>\n",
       "      <th>2</th>\n",
       "      <td>G03</td>\n",
       "      <td>1766</td>\n",
       "      <td>26</td>\n",
       "      <td>0.014723</td>\n",
       "      <td>1766</td>\n",
       "      <td>918.559120</td>\n",
       "      <td>0.520135</td>\n",
       "    </tr>\n",
       "    <tr>\n",
       "      <th>3</th>\n",
       "      <td>G04</td>\n",
       "      <td>1766</td>\n",
       "      <td>17</td>\n",
       "      <td>0.009626</td>\n",
       "      <td>1766</td>\n",
       "      <td>810.002935</td>\n",
       "      <td>0.458665</td>\n",
       "    </tr>\n",
       "    <tr>\n",
       "      <th>4</th>\n",
       "      <td>G05</td>\n",
       "      <td>1766</td>\n",
       "      <td>20</td>\n",
       "      <td>0.011325</td>\n",
       "      <td>1766</td>\n",
       "      <td>719.761679</td>\n",
       "      <td>0.407566</td>\n",
       "    </tr>\n",
       "    <tr>\n",
       "      <th>5</th>\n",
       "      <td>G06</td>\n",
       "      <td>1766</td>\n",
       "      <td>15</td>\n",
       "      <td>0.008494</td>\n",
       "      <td>1766</td>\n",
       "      <td>643.981311</td>\n",
       "      <td>0.364655</td>\n",
       "    </tr>\n",
       "    <tr>\n",
       "      <th>6</th>\n",
       "      <td>G07</td>\n",
       "      <td>1766</td>\n",
       "      <td>10</td>\n",
       "      <td>0.005663</td>\n",
       "      <td>1766</td>\n",
       "      <td>520.157844</td>\n",
       "      <td>0.294540</td>\n",
       "    </tr>\n",
       "    <tr>\n",
       "      <th>7</th>\n",
       "      <td>G08</td>\n",
       "      <td>1766</td>\n",
       "      <td>8</td>\n",
       "      <td>0.004530</td>\n",
       "      <td>1766</td>\n",
       "      <td>363.617320</td>\n",
       "      <td>0.205899</td>\n",
       "    </tr>\n",
       "    <tr>\n",
       "      <th>8</th>\n",
       "      <td>G09</td>\n",
       "      <td>1766</td>\n",
       "      <td>2</td>\n",
       "      <td>0.001133</td>\n",
       "      <td>1766</td>\n",
       "      <td>176.670194</td>\n",
       "      <td>0.100040</td>\n",
       "    </tr>\n",
       "    <tr>\n",
       "      <th>9</th>\n",
       "      <td>G10</td>\n",
       "      <td>1767</td>\n",
       "      <td>4</td>\n",
       "      <td>0.002264</td>\n",
       "      <td>1767</td>\n",
       "      <td>62.001602</td>\n",
       "      <td>0.035089</td>\n",
       "    </tr>\n",
       "  </tbody>\n",
       "</table>\n",
       "</div>"
      ],
      "text/plain": [
       "  group FDS_CATH                   p1                       \n",
       "           count  sum      mean count          sum      mean\n",
       "0   G01     1766  100  0.056625  1766  1261.402540  0.714271\n",
       "1   G02     1766   27  0.015289  1766  1031.645325  0.584171\n",
       "2   G03     1766   26  0.014723  1766   918.559120  0.520135\n",
       "3   G04     1766   17  0.009626  1766   810.002935  0.458665\n",
       "4   G05     1766   20  0.011325  1766   719.761679  0.407566\n",
       "5   G06     1766   15  0.008494  1766   643.981311  0.364655\n",
       "6   G07     1766   10  0.005663  1766   520.157844  0.294540\n",
       "7   G08     1766    8  0.004530  1766   363.617320  0.205899\n",
       "8   G09     1766    2  0.001133  1766   176.670194  0.100040\n",
       "9   G10     1767    4  0.002264  1767    62.001602  0.035089"
      ]
     },
     "execution_count": 20,
     "metadata": {},
     "output_type": "execute_result"
    }
   ],
   "source": [
    "table"
   ]
  },
  {
   "cell_type": "code",
   "execution_count": 15,
   "metadata": {},
   "outputs": [
    {
     "data": {
      "text/plain": [
       "[<matplotlib.lines.Line2D at 0x7f0cd18aa668>]"
      ]
     },
     "execution_count": 15,
     "metadata": {},
     "output_type": "execute_result"
    },
    {
     "data": {
      "image/png": "[encoded data removed]",
      "text/plain": [
       "<Figure size 432x288 with 1 Axes>"
      ]
     },
     "metadata": {
      "needs_background": "light"
     },
     "output_type": "display_data"
    }
   ],
   "source": [
    "plt.plot(table['group'], table['FDS_CATH']['mean'],'bo--')"
   ]
  },
  {
   "cell_type": "markdown",
   "metadata": {},
   "source": [
    "## **시각화**"
   ]
  },
  {
   "cell_type": "code",
   "execution_count": 69,
   "metadata": {},
   "outputs": [
    {
     "data": {
      "text/plain": [
       "Text(0, 0.5, 'sample number')"
      ]
     },
     "execution_count": 69,
     "metadata": {},
     "output_type": "execute_result"
    },
    {
     "data": {
      "image/png": "[encoded data removed]",
      "text/plain": [
       "<Figure size 432x288 with 1 Axes>"
      ]
     },
     "metadata": {
      "needs_background": "light"
     },
     "output_type": "display_data"
    }
   ],
   "source": [
    "final_masks=np.zeros((masks[0].shape[0], masks[0].shape[1] ))\n",
    "for i in range(3):\n",
    "    final_masks +=masks[0]\n",
    "plt.imshow(final_masks[:10])\n",
    "plt.title(\"Feature Importance by sample(0~10 sample)\")\n",
    "plt.xlabel(\"Feature number\")\n",
    "plt.ylabel(\"sample number\")"
   ]
  },
  {
   "cell_type": "code",
   "execution_count": 46,
   "metadata": {},
   "outputs": [],
   "source": [
    "final_masks_percent=np.sum(final_masks, axis=0)"
   ]
  },
  {
   "cell_type": "code",
   "execution_count": 65,
   "metadata": {},
   "outputs": [
    {
     "data": {
      "text/plain": [
       "array([0.112878, 0.06245 , 0.047573, 0.000051, 0.      , 0.058923,\n",
       "       0.005204, 0.102737, 0.00198 , 0.000268, 0.000359, 0.20544 ,\n",
       "       0.017121, 0.018686, 0.181641, 0.01779 , 0.143759, 0.000602,\n",
       "       0.000031, 0.022506])"
      ]
     },
     "execution_count": 65,
     "metadata": {},
     "output_type": "execute_result"
    }
   ],
   "source": [
    "np.set_printoptions(precision=6, suppress=True)\n",
    "final_masks_percent/ np.sum(final_masks_percent)"
   ]
  },
  {
   "cell_type": "markdown",
   "metadata": {},
   "source": [
    "# **train 결과 도출**"
   ]
  },
  {
   "cell_type": "code",
   "execution_count": 22,
   "metadata": {},
   "outputs": [],
   "source": [
    "#train 정답 도출\n",
    "train_prediction=np.zeros((train.shape[0], 2))\n",
    "for n_fold in range(5):\n",
    "    PATH='/home/users/adk8400153/AXA_FDS/tabnet_model/clf_'+str(n_fold)+'.pth'\n",
    "    model=torch.load(PATH)\n",
    "    train_prediction += model.predict_proba(train_x)/5"
   ]
  },
  {
   "cell_type": "code",
   "execution_count": 23,
   "metadata": {},
   "outputs": [
    {
     "name": "stdout",
     "output_type": "stream",
     "text": [
      "AUC score: 0.8020582225852022\n",
      "precision score:0.07696344776488022\n",
      "recall score: 0.6946224575090555\n"
     ]
    },
    {
     "data": {
      "text/plain": [
       "Text(0.5, 24.0, 'Predicted label')"
      ]
     },
     "execution_count": 23,
     "metadata": {},
     "output_type": "execute_result"
    },
    {
     "data": {
      "image/png": "[encoded data removed]",
      "text/plain": [
       "<Figure size 360x360 with 2 Axes>"
      ]
     },
     "metadata": {
      "needs_background": "light"
     },
     "output_type": "display_data"
    }
   ],
   "source": [
    "train_preds=np.argmax(train_prediction, axis=1)\n",
    "print(f'AUC score: {roc_auc_score(y_score=train_prediction[:,1], y_true=train_y)}')\n",
    "print(f'precision score:{precision_score(train_y, train_preds)}')\n",
    "print(f'recall score: {recall_score(train_y, train_preds)}')\n",
    "cm=confusion_matrix(train_y, train_preds)\n",
    "plt.figure(figsize=(5,5))\n",
    "sns.heatmap(cm, annot=True, fmt=\"d\")\n",
    "plt.title(\"Confision matrix\")\n",
    "plt.ylabel(\"Actual label\")\n",
    "plt.xlabel(\"Predicted label\")"
   ]
  },
  {
   "cell_type": "code",
   "execution_count": 24,
   "metadata": {},
   "outputs": [],
   "source": [
    "train_prediction=pd.DataFrame(train_prediction, columns=['p0', 'p1'])\n",
    "score=pd.concat([train[[target]], train_prediction['p1']], axis=1)\n",
    "score.sort_values('p1', ascending=False, inplace=True)\n",
    "score=score.reset_index().drop('index', axis=1).copy()"
   ]
  },
  {
   "cell_type": "code",
   "execution_count": 25,
   "metadata": {},
   "outputs": [],
   "source": [
    "n_group=10\n",
    "group=['G01','G02','G03','G04','G05','G06','G07','G08','G09','G10']\n",
    "bins=round(len(score)/n_group)\n",
    "bins_1=len(score)-bins*(n_group-1)\n",
    "\n",
    "group_list=[]\n",
    "for i in range(n_group):\n",
    "    if i <n_group-1:\n",
    "        group_list.append(np.repeat(group[i], bins).tolist())\n",
    "    else:\n",
    "        group_list.append(np.repeat(group[i], bins_1).tolist())\n",
    "    \n",
    "import itertools\n",
    "group_list=list(itertools.chain(*group_list))\n",
    "score['group']=pd.Series(group_list)\n",
    "\n",
    "function_list=['count','sum','mean']\n",
    "table=score.groupby(['group']).agg(function_list).reset_index()"
   ]
  },
  {
   "cell_type": "code",
   "execution_count": 26,
   "metadata": {},
   "outputs": [
    {
     "data": {
      "text/plain": [
       "[<matplotlib.lines.Line2D at 0x7f18443d3f28>]"
      ]
     },
     "execution_count": 26,
     "metadata": {},
     "output_type": "execute_result"
    },
    {
     "data": {
      "image/png": "[encoded data removed]",
      "text/plain": [
       "<Figure size 432x288 with 1 Axes>"
      ]
     },
     "metadata": {
      "needs_background": "light"
     },
     "output_type": "display_data"
    }
   ],
   "source": [
    "plt.plot(table['group'], table['FDS_CATH']['mean'],'bo--')"
   ]
  },
  {
   "cell_type": "code",
   "execution_count": 27,
   "metadata": {},
   "outputs": [
    {
     "data": {
      "text/html": [
       "<div>\n",
       "<style scoped>\n",
       "    .dataframe tbody tr th:only-of-type {\n",
       "        vertical-align: middle;\n",
       "    }\n",
       "\n",
       "    .dataframe tbody tr th {\n",
       "        vertical-align: top;\n",
       "    }\n",
       "\n",
       "    .dataframe thead tr th {\n",
       "        text-align: left;\n",
       "    }\n",
       "</style>\n",
       "<table border=\"1\" class=\"dataframe\">\n",
       "  <thead>\n",
       "    <tr>\n",
       "      <th></th>\n",
       "      <th>group</th>\n",
       "      <th colspan=\"3\" halign=\"left\">FDS_CATH</th>\n",
       "      <th colspan=\"3\" halign=\"left\">p1</th>\n",
       "    </tr>\n",
       "    <tr>\n",
       "      <th></th>\n",
       "      <th></th>\n",
       "      <th>count</th>\n",
       "      <th>sum</th>\n",
       "      <th>mean</th>\n",
       "      <th>count</th>\n",
       "      <th>sum</th>\n",
       "      <th>mean</th>\n",
       "    </tr>\n",
       "  </thead>\n",
       "  <tbody>\n",
       "    <tr>\n",
       "      <th>0</th>\n",
       "      <td>G01</td>\n",
       "      <td>11889</td>\n",
       "      <td>1546</td>\n",
       "      <td>0.130036</td>\n",
       "      <td>11889</td>\n",
       "      <td>8733.102717</td>\n",
       "      <td>0.734553</td>\n",
       "    </tr>\n",
       "    <tr>\n",
       "      <th>1</th>\n",
       "      <td>G02</td>\n",
       "      <td>11889</td>\n",
       "      <td>618</td>\n",
       "      <td>0.051981</td>\n",
       "      <td>11889</td>\n",
       "      <td>7058.496841</td>\n",
       "      <td>0.593700</td>\n",
       "    </tr>\n",
       "    <tr>\n",
       "      <th>2</th>\n",
       "      <td>G03</td>\n",
       "      <td>11889</td>\n",
       "      <td>434</td>\n",
       "      <td>0.036504</td>\n",
       "      <td>11889</td>\n",
       "      <td>6157.437067</td>\n",
       "      <td>0.517910</td>\n",
       "    </tr>\n",
       "    <tr>\n",
       "      <th>3</th>\n",
       "      <td>G04</td>\n",
       "      <td>11889</td>\n",
       "      <td>301</td>\n",
       "      <td>0.025318</td>\n",
       "      <td>11889</td>\n",
       "      <td>5391.203836</td>\n",
       "      <td>0.453462</td>\n",
       "    </tr>\n",
       "    <tr>\n",
       "      <th>4</th>\n",
       "      <td>G05</td>\n",
       "      <td>11889</td>\n",
       "      <td>248</td>\n",
       "      <td>0.020860</td>\n",
       "      <td>11889</td>\n",
       "      <td>4824.293944</td>\n",
       "      <td>0.405778</td>\n",
       "    </tr>\n",
       "    <tr>\n",
       "      <th>5</th>\n",
       "      <td>G06</td>\n",
       "      <td>11889</td>\n",
       "      <td>195</td>\n",
       "      <td>0.016402</td>\n",
       "      <td>11889</td>\n",
       "      <td>4351.556794</td>\n",
       "      <td>0.366015</td>\n",
       "    </tr>\n",
       "    <tr>\n",
       "      <th>6</th>\n",
       "      <td>G07</td>\n",
       "      <td>11889</td>\n",
       "      <td>154</td>\n",
       "      <td>0.012953</td>\n",
       "      <td>11889</td>\n",
       "      <td>3546.225304</td>\n",
       "      <td>0.298278</td>\n",
       "    </tr>\n",
       "    <tr>\n",
       "      <th>7</th>\n",
       "      <td>G08</td>\n",
       "      <td>11889</td>\n",
       "      <td>56</td>\n",
       "      <td>0.004710</td>\n",
       "      <td>11889</td>\n",
       "      <td>2592.743098</td>\n",
       "      <td>0.218079</td>\n",
       "    </tr>\n",
       "    <tr>\n",
       "      <th>8</th>\n",
       "      <td>G09</td>\n",
       "      <td>11889</td>\n",
       "      <td>29</td>\n",
       "      <td>0.002439</td>\n",
       "      <td>11889</td>\n",
       "      <td>1196.603926</td>\n",
       "      <td>0.100648</td>\n",
       "    </tr>\n",
       "    <tr>\n",
       "      <th>9</th>\n",
       "      <td>G10</td>\n",
       "      <td>11887</td>\n",
       "      <td>8</td>\n",
       "      <td>0.000673</td>\n",
       "      <td>11887</td>\n",
       "      <td>377.677037</td>\n",
       "      <td>0.031772</td>\n",
       "    </tr>\n",
       "  </tbody>\n",
       "</table>\n",
       "</div>"
      ],
      "text/plain": [
       "  group FDS_CATH                     p1                       \n",
       "           count   sum      mean  count          sum      mean\n",
       "0   G01    11889  1546  0.130036  11889  8733.102717  0.734553\n",
       "1   G02    11889   618  0.051981  11889  7058.496841  0.593700\n",
       "2   G03    11889   434  0.036504  11889  6157.437067  0.517910\n",
       "3   G04    11889   301  0.025318  11889  5391.203836  0.453462\n",
       "4   G05    11889   248  0.020860  11889  4824.293944  0.405778\n",
       "5   G06    11889   195  0.016402  11889  4351.556794  0.366015\n",
       "6   G07    11889   154  0.012953  11889  3546.225304  0.298278\n",
       "7   G08    11889    56  0.004710  11889  2592.743098  0.218079\n",
       "8   G09    11889    29  0.002439  11889  1196.603926  0.100648\n",
       "9   G10    11887     8  0.000673  11887   377.677037  0.031772"
      ]
     },
     "execution_count": 27,
     "metadata": {},
     "output_type": "execute_result"
    }
   ],
   "source": [
    "table"
   ]
  }
 ],
 "metadata": {
  "kernelspec": {
   "display_name": "Python 3",
   "language": "python",
   "name": "python3"
  },
  "language_info": {
   "codemirror_mode": {
    "name": "ipython",
    "version": 3
   },
   "file_extension": ".py",
   "mimetype": "text/x-python",
   "name": "python",
   "nbconvert_exporter": "python",
   "pygments_lexer": "ipython3",
   "version": "3.6.8"
  }
 },
 "nbformat": 4,
 "nbformat_minor": 4
}
